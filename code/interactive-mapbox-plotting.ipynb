{
 "cells": [
  {
   "cell_type": "code",
   "execution_count": 1,
   "id": "6f1fbbeb",
   "metadata": {},
   "outputs": [],
   "source": [
    "import json\n",
    "import pandas as pd\n",
    "import numpy as np\n",
    "import csv\n",
    "import os\n",
    "\n",
    "import geopandas #as gpd\n",
    "import matplotlib.pyplot as plt\n",
    "import plotly.express as px\n",
    "import seaborn as sns\n",
    "import plotly.graph_objects as go\n",
    "\n",
    "from shapely.geometry import Point, Polygon\n",
    "import matplotlib\n",
    "import folium\n",
    "import mapclassify"
   ]
  },
  {
   "cell_type": "markdown",
   "id": "1d0b4e27",
   "metadata": {},
   "source": [
    "# ADI Data"
   ]
  },
  {
   "cell_type": "code",
   "execution_count": 2,
   "id": "b14fcb2d",
   "metadata": {},
   "outputs": [
    {
     "data": {
      "text/html": [
       "<div>\n",
       "<style scoped>\n",
       "    .dataframe tbody tr th:only-of-type {\n",
       "        vertical-align: middle;\n",
       "    }\n",
       "\n",
       "    .dataframe tbody tr th {\n",
       "        vertical-align: top;\n",
       "    }\n",
       "\n",
       "    .dataframe thead th {\n",
       "        text-align: right;\n",
       "    }\n",
       "</style>\n",
       "<table border=\"1\" class=\"dataframe\">\n",
       "  <thead>\n",
       "    <tr style=\"text-align: right;\">\n",
       "      <th></th>\n",
       "      <th>GISJOIN</th>\n",
       "      <th>ADI_NATRANK</th>\n",
       "      <th>ADI_STATERNK</th>\n",
       "      <th>FIPS</th>\n",
       "    </tr>\n",
       "  </thead>\n",
       "  <tbody>\n",
       "    <tr>\n",
       "      <th>0</th>\n",
       "      <td>G42000100301011</td>\n",
       "      <td>45</td>\n",
       "      <td>4</td>\n",
       "      <td>420010301011</td>\n",
       "    </tr>\n",
       "    <tr>\n",
       "      <th>1</th>\n",
       "      <td>G42000100301012</td>\n",
       "      <td>37</td>\n",
       "      <td>3</td>\n",
       "      <td>420010301012</td>\n",
       "    </tr>\n",
       "    <tr>\n",
       "      <th>2</th>\n",
       "      <td>G42000100301031</td>\n",
       "      <td>38</td>\n",
       "      <td>3</td>\n",
       "      <td>420010301031</td>\n",
       "    </tr>\n",
       "  </tbody>\n",
       "</table>\n",
       "</div>"
      ],
      "text/plain": [
       "           GISJOIN ADI_NATRANK ADI_STATERNK          FIPS\n",
       "0  G42000100301011          45            4  420010301011\n",
       "1  G42000100301012          37            3  420010301012\n",
       "2  G42000100301031          38            3  420010301031"
      ]
     },
     "execution_count": 2,
     "metadata": {},
     "output_type": "execute_result"
    }
   ],
   "source": [
    "path =  os.getcwd() + \"/adi_datasets/adi-PA-fips/pa_2020_ADI_Census Block Group_v3.2.csv\"\n",
    "df_adi_pa = pd.read_csv(path)\n",
    "df_adi_pa.head(3)"
   ]
  },
  {
   "cell_type": "code",
   "execution_count": 3,
   "id": "4d998cc2",
   "metadata": {},
   "outputs": [
    {
     "data": {
      "text/plain": [
       "(10173, 4)"
      ]
     },
     "execution_count": 3,
     "metadata": {},
     "output_type": "execute_result"
    }
   ],
   "source": [
    "df_adi_pa.shape"
   ]
  },
  {
   "cell_type": "code",
   "execution_count": 4,
   "id": "312ea387",
   "metadata": {},
   "outputs": [
    {
     "data": {
      "text/html": [
       "<div>\n",
       "<style scoped>\n",
       "    .dataframe tbody tr th:only-of-type {\n",
       "        vertical-align: middle;\n",
       "    }\n",
       "\n",
       "    .dataframe tbody tr th {\n",
       "        vertical-align: top;\n",
       "    }\n",
       "\n",
       "    .dataframe thead th {\n",
       "        text-align: right;\n",
       "    }\n",
       "</style>\n",
       "<table border=\"1\" class=\"dataframe\">\n",
       "  <thead>\n",
       "    <tr style=\"text-align: right;\">\n",
       "      <th></th>\n",
       "      <th>GISJOIN</th>\n",
       "      <th>ADI_NATRANK</th>\n",
       "      <th>ADI_STATERNK</th>\n",
       "      <th>FIPS</th>\n",
       "    </tr>\n",
       "  </thead>\n",
       "  <tbody>\n",
       "    <tr>\n",
       "      <th>0</th>\n",
       "      <td>G42000100301011</td>\n",
       "      <td>45</td>\n",
       "      <td>4</td>\n",
       "      <td>420010301011</td>\n",
       "    </tr>\n",
       "    <tr>\n",
       "      <th>1</th>\n",
       "      <td>G42000100301012</td>\n",
       "      <td>37</td>\n",
       "      <td>3</td>\n",
       "      <td>420010301012</td>\n",
       "    </tr>\n",
       "    <tr>\n",
       "      <th>2</th>\n",
       "      <td>G42000100301031</td>\n",
       "      <td>38</td>\n",
       "      <td>3</td>\n",
       "      <td>420010301031</td>\n",
       "    </tr>\n",
       "    <tr>\n",
       "      <th>3</th>\n",
       "      <td>G42000100301041</td>\n",
       "      <td>38</td>\n",
       "      <td>3</td>\n",
       "      <td>420010301041</td>\n",
       "    </tr>\n",
       "    <tr>\n",
       "      <th>4</th>\n",
       "      <td>G42000100301042</td>\n",
       "      <td>69</td>\n",
       "      <td>7</td>\n",
       "      <td>420010301042</td>\n",
       "    </tr>\n",
       "    <tr>\n",
       "      <th>...</th>\n",
       "      <td>...</td>\n",
       "      <td>...</td>\n",
       "      <td>...</td>\n",
       "      <td>...</td>\n",
       "    </tr>\n",
       "    <tr>\n",
       "      <th>9805</th>\n",
       "      <td>G42013300240012</td>\n",
       "      <td>51</td>\n",
       "      <td>4</td>\n",
       "      <td>421330240012</td>\n",
       "    </tr>\n",
       "    <tr>\n",
       "      <th>9806</th>\n",
       "      <td>G42013300240013</td>\n",
       "      <td>40</td>\n",
       "      <td>3</td>\n",
       "      <td>421330240013</td>\n",
       "    </tr>\n",
       "    <tr>\n",
       "      <th>9807</th>\n",
       "      <td>G42013300240014</td>\n",
       "      <td>68</td>\n",
       "      <td>7</td>\n",
       "      <td>421330240014</td>\n",
       "    </tr>\n",
       "    <tr>\n",
       "      <th>9808</th>\n",
       "      <td>G42013300240021</td>\n",
       "      <td>42</td>\n",
       "      <td>3</td>\n",
       "      <td>421330240021</td>\n",
       "    </tr>\n",
       "    <tr>\n",
       "      <th>9809</th>\n",
       "      <td>G42013300240022</td>\n",
       "      <td>47</td>\n",
       "      <td>4</td>\n",
       "      <td>421330240022</td>\n",
       "    </tr>\n",
       "  </tbody>\n",
       "</table>\n",
       "<p>9810 rows × 4 columns</p>\n",
       "</div>"
      ],
      "text/plain": [
       "              GISJOIN ADI_NATRANK ADI_STATERNK          FIPS\n",
       "0     G42000100301011          45            4  420010301011\n",
       "1     G42000100301012          37            3  420010301012\n",
       "2     G42000100301031          38            3  420010301031\n",
       "3     G42000100301041          38            3  420010301041\n",
       "4     G42000100301042          69            7  420010301042\n",
       "...               ...         ...          ...           ...\n",
       "9805  G42013300240012          51            4  421330240012\n",
       "9806  G42013300240013          40            3  421330240013\n",
       "9807  G42013300240014          68            7  421330240014\n",
       "9808  G42013300240021          42            3  421330240021\n",
       "9809  G42013300240022          47            4  421330240022\n",
       "\n",
       "[9810 rows x 4 columns]"
      ]
     },
     "execution_count": 4,
     "metadata": {},
     "output_type": "execute_result"
    }
   ],
   "source": [
    "# remove rows with non-numerical `ADI_STATERNK`\n",
    "ind_to_del = df_adi_pa[(df_adi_pa.ADI_STATERNK =='QDI')|(df_adi_pa.ADI_STATERNK =='GQ') | (df_adi_pa.ADI_STATERNK =='GQ-PH') | (df_adi_pa.ADI_STATERNK =='PH')].index\n",
    "df_adi_pa.drop(index=ind_to_del, inplace=True)\n",
    "df_adi_pa.reset_index(drop=True)"
   ]
  },
  {
   "cell_type": "code",
   "execution_count": 5,
   "id": "38ebbbe8",
   "metadata": {},
   "outputs": [],
   "source": [
    "# df_adi_pa.groupby('ADI_STATERNK').count()"
   ]
  },
  {
   "cell_type": "code",
   "execution_count": 6,
   "id": "a61fc82c",
   "metadata": {},
   "outputs": [],
   "source": [
    "# convert `ADI_STATERNK` column to int\n",
    "\n",
    "df_adi_pa['ADI_STATERNK']=df_adi_pa.ADI_STATERNK.astype('int32')"
   ]
  },
  {
   "cell_type": "code",
   "execution_count": 7,
   "id": "cf1f9f06",
   "metadata": {},
   "outputs": [
    {
     "data": {
      "text/plain": [
       "GISJOIN         object\n",
       "ADI_NATRANK     object\n",
       "ADI_STATERNK     int32\n",
       "FIPS             int64\n",
       "dtype: object"
      ]
     },
     "execution_count": 7,
     "metadata": {},
     "output_type": "execute_result"
    }
   ],
   "source": [
    "df_adi_pa.dtypes"
   ]
  },
  {
   "cell_type": "markdown",
   "id": "79dd88b8",
   "metadata": {},
   "source": [
    "# PA Census Group Shapefile"
   ]
  },
  {
   "cell_type": "code",
   "execution_count": 145,
   "id": "080b9a65",
   "metadata": {},
   "outputs": [],
   "source": [
    "path =  os.getcwd() + \"/adi_datasets/nhgis_shapefile_420_blck_grp_2020/PA_blck_grp_2020.shp\"\n",
    "pa_cbg_map = gpd.read_file(path)"
   ]
  },
  {
   "cell_type": "code",
   "execution_count": 124,
   "id": "949bf350",
   "metadata": {},
   "outputs": [],
   "source": [
    "# fig, ax = plt.subplots(figsize=(5,5))\n",
    "# pa_cbg_map.plot(ax=ax, cmap = 'viridis')"
   ]
  },
  {
   "cell_type": "code",
   "execution_count": 147,
   "id": "99b9ec32",
   "metadata": {},
   "outputs": [
    {
     "data": {
      "text/plain": [
       "(10171, 16)"
      ]
     },
     "execution_count": 147,
     "metadata": {},
     "output_type": "execute_result"
    }
   ],
   "source": [
    "pa_cbg_map.shape"
   ]
  },
  {
   "cell_type": "markdown",
   "id": "d8a5f918",
   "metadata": {},
   "source": [
    "#### limit to CBGs in greater Philadelphia region"
   ]
  },
  {
   "cell_type": "code",
   "execution_count": 148,
   "id": "d7057978",
   "metadata": {},
   "outputs": [],
   "source": [
    "pa_cbg_map['INTPTLON']= pa_cbg_map['INTPTLON'].astype(float)\n",
    "pa_cbg_map['INTPTLAT']= pa_cbg_map['INTPTLAT'].astype(float)"
   ]
  },
  {
   "cell_type": "code",
   "execution_count": 149,
   "id": "28574a6c",
   "metadata": {},
   "outputs": [],
   "source": [
    "pa_cbg_map = pa_cbg_map[(pa_cbg_map['INTPTLON']>-75.9) & (pa_cbg_map['INTPTLAT']<40.48)]"
   ]
  },
  {
   "cell_type": "code",
   "execution_count": 150,
   "id": "c76e941c",
   "metadata": {},
   "outputs": [
    {
     "data": {
      "text/plain": [
       "(3213, 16)"
      ]
     },
     "execution_count": 150,
     "metadata": {},
     "output_type": "execute_result"
    }
   ],
   "source": [
    "pa_cbg_map.shape"
   ]
  },
  {
   "cell_type": "markdown",
   "id": "b1fd2855",
   "metadata": {},
   "source": [
    "# Combine ADI + Shapefile Data"
   ]
  },
  {
   "cell_type": "code",
   "execution_count": 151,
   "id": "7aa14286",
   "metadata": {},
   "outputs": [],
   "source": [
    "df = pa_cbg_map.merge(df_adi_pa, on=\"GISJOIN\")"
   ]
  },
  {
   "cell_type": "code",
   "execution_count": 152,
   "id": "7d93af30",
   "metadata": {},
   "outputs": [],
   "source": [
    "# remove ununused cols\n",
    "df.drop(inplace=True,columns=['Shape_Area','Shape_Leng','INTPTLON','INTPTLAT', 'NAMELSAD','MTFCC','FUNCSTAT','ALAND','AWATER','STATEFP','COUNTYFP','TRACTCE','BLKGRPCE'])"
   ]
  },
  {
   "cell_type": "code",
   "execution_count": 153,
   "id": "db985e10-e167-4514-b861-76b7cc924ec4",
   "metadata": {},
   "outputs": [],
   "source": [
    "df.to_crs(\"EPSG:4326\",inplace=True)"
   ]
  },
  {
   "cell_type": "code",
   "execution_count": 154,
   "id": "fda25035",
   "metadata": {},
   "outputs": [
    {
     "data": {
      "text/plain": [
       "geopandas.geodataframe.GeoDataFrame"
      ]
     },
     "execution_count": 154,
     "metadata": {},
     "output_type": "execute_result"
    }
   ],
   "source": [
    "type(df)"
   ]
  },
  {
   "cell_type": "code",
   "execution_count": 155,
   "id": "294e2475",
   "metadata": {},
   "outputs": [
    {
     "data": {
      "text/plain": [
       "(3013, 6)"
      ]
     },
     "execution_count": 155,
     "metadata": {},
     "output_type": "execute_result"
    }
   ],
   "source": [
    "df.shape"
   ]
  },
  {
   "cell_type": "code",
   "execution_count": 156,
   "id": "2318069a",
   "metadata": {},
   "outputs": [],
   "source": [
    "df['id']=df.index # THIS IS THE KEY !!!!!!!!"
   ]
  },
  {
   "cell_type": "code",
   "execution_count": 135,
   "id": "00056138",
   "metadata": {},
   "outputs": [
    {
     "data": {
      "text/html": [
       "<div>\n",
       "<style scoped>\n",
       "    .dataframe tbody tr th:only-of-type {\n",
       "        vertical-align: middle;\n",
       "    }\n",
       "\n",
       "    .dataframe tbody tr th {\n",
       "        vertical-align: top;\n",
       "    }\n",
       "\n",
       "    .dataframe thead th {\n",
       "        text-align: right;\n",
       "    }\n",
       "</style>\n",
       "<table border=\"1\" class=\"dataframe\">\n",
       "  <thead>\n",
       "    <tr style=\"text-align: right;\">\n",
       "      <th></th>\n",
       "      <th>GISJOIN</th>\n",
       "      <th>GEOID</th>\n",
       "      <th>geometry</th>\n",
       "      <th>ADI_NATRANK</th>\n",
       "      <th>ADI_STATERNK</th>\n",
       "      <th>FIPS</th>\n",
       "      <th>id</th>\n",
       "    </tr>\n",
       "  </thead>\n",
       "  <tbody>\n",
       "    <tr>\n",
       "      <th>0</th>\n",
       "      <td>G42001100119021</td>\n",
       "      <td>420110119021</td>\n",
       "      <td>POLYGON ((-75.76835 40.25849, -75.76832 40.258...</td>\n",
       "      <td>47</td>\n",
       "      <td>4</td>\n",
       "      <td>420110119021</td>\n",
       "      <td>0</td>\n",
       "    </tr>\n",
       "    <tr>\n",
       "      <th>1</th>\n",
       "      <td>G42001100119023</td>\n",
       "      <td>420110119023</td>\n",
       "      <td>POLYGON ((-75.72046 40.24846, -75.71861 40.248...</td>\n",
       "      <td>30</td>\n",
       "      <td>2</td>\n",
       "      <td>420110119023</td>\n",
       "      <td>1</td>\n",
       "    </tr>\n",
       "    <tr>\n",
       "      <th>2</th>\n",
       "      <td>G42001100119031</td>\n",
       "      <td>420110119031</td>\n",
       "      <td>POLYGON ((-75.74496 40.32119, -75.74435 40.321...</td>\n",
       "      <td>28</td>\n",
       "      <td>2</td>\n",
       "      <td>420110119031</td>\n",
       "      <td>2</td>\n",
       "    </tr>\n",
       "  </tbody>\n",
       "</table>\n",
       "</div>"
      ],
      "text/plain": [
       "           GISJOIN         GEOID  \\\n",
       "0  G42001100119021  420110119021   \n",
       "1  G42001100119023  420110119023   \n",
       "2  G42001100119031  420110119031   \n",
       "\n",
       "                                            geometry ADI_NATRANK  \\\n",
       "0  POLYGON ((-75.76835 40.25849, -75.76832 40.258...          47   \n",
       "1  POLYGON ((-75.72046 40.24846, -75.71861 40.248...          30   \n",
       "2  POLYGON ((-75.74496 40.32119, -75.74435 40.321...          28   \n",
       "\n",
       "   ADI_STATERNK          FIPS  id  \n",
       "0             4  420110119021   0  \n",
       "1             2  420110119023   1  \n",
       "2             2  420110119031   2  "
      ]
     },
     "execution_count": 135,
     "metadata": {},
     "output_type": "execute_result"
    }
   ],
   "source": [
    "df.head(3)"
   ]
  },
  {
   "cell_type": "code",
   "execution_count": 157,
   "id": "e35321cf",
   "metadata": {},
   "outputs": [
    {
     "data": {
      "text/plain": [
       "3013"
      ]
     },
     "execution_count": 157,
     "metadata": {},
     "output_type": "execute_result"
    }
   ],
   "source": [
    "df.FIPS.nunique()"
   ]
  },
  {
   "cell_type": "code",
   "execution_count": 158,
   "id": "04b384b9",
   "metadata": {},
   "outputs": [
    {
     "data": {
      "text/plain": [
       "<AxesSubplot:>"
      ]
     },
     "execution_count": 158,
     "metadata": {},
     "output_type": "execute_result"
    },
    {
     "data": {
      "image/png": "[encoded data removed]",
      "text/plain": [
       "<Figure size 500x500 with 1 Axes>"
      ]
     },
     "metadata": {},
     "output_type": "display_data"
    }
   ],
   "source": [
    "# basic plot showing ADI\n",
    "fig, ax = plt.subplots(figsize=(5,5))\n",
    "df.plot(ax=ax, cmap = 'viridis', column = 'ADI_STATERNK')"
   ]
  },
  {
   "cell_type": "code",
   "execution_count": 159,
   "id": "3880baf3",
   "metadata": {},
   "outputs": [],
   "source": [
    "geo_jsn = json.loads(df.to_json())"
   ]
  },
  {
   "cell_type": "code",
   "execution_count": 160,
   "id": "803aa483",
   "metadata": {},
   "outputs": [
    {
     "data": {
      "text/plain": [
       "dict"
      ]
     },
     "execution_count": 160,
     "metadata": {},
     "output_type": "execute_result"
    }
   ],
   "source": [
    "type(geo_jsn)"
   ]
  },
  {
   "cell_type": "code",
   "execution_count": 22,
   "id": "5a8f0817",
   "metadata": {},
   "outputs": [],
   "source": [
    "# geo_jsn['features'][0]['geometry']['coordinates'][0]"
   ]
  },
  {
   "cell_type": "code",
   "execution_count": 23,
   "id": "5a8696e6",
   "metadata": {},
   "outputs": [],
   "source": [
    "# geo_jsn"
   ]
  },
  {
   "cell_type": "code",
   "execution_count": 25,
   "id": "fe87fcfb",
   "metadata": {},
   "outputs": [],
   "source": [
    "# this map works\n",
    "# df.explore(column='ADI_STATERNK',tiles='CartoDB positron',cmap='flare')"
   ]
  },
  {
   "cell_type": "markdown",
   "id": "45ad15a4",
   "metadata": {},
   "source": [
    "# Yelp Data"
   ]
  },
  {
   "cell_type": "code",
   "execution_count": 161,
   "id": "55974bf4",
   "metadata": {},
   "outputs": [],
   "source": [
    "path =  os.getcwd() + \"/yelp_dataset/\""
   ]
  },
  {
   "cell_type": "markdown",
   "id": "ac923e2b",
   "metadata": {},
   "source": [
    "### Business Dataset"
   ]
  },
  {
   "cell_type": "code",
   "execution_count": 110,
   "id": "dd0c87f5",
   "metadata": {},
   "outputs": [],
   "source": [
    "df_bus = pd.read_json(path+'yelp_academic_dataset_business.json', lines=True)"
   ]
  },
  {
   "cell_type": "code",
   "execution_count": 111,
   "id": "dfa37bdf",
   "metadata": {},
   "outputs": [
    {
     "data": {
      "text/plain": [
       "(150346, 14)"
      ]
     },
     "execution_count": 111,
     "metadata": {},
     "output_type": "execute_result"
    }
   ],
   "source": [
    "df_bus.shape"
   ]
  },
  {
   "cell_type": "code",
   "execution_count": 112,
   "id": "deaa2b0a",
   "metadata": {},
   "outputs": [
    {
     "data": {
      "text/plain": [
       "Index(['business_id', 'name', 'address', 'city', 'state', 'postal_code',\n",
       "       'latitude', 'longitude', 'stars', 'review_count', 'is_open',\n",
       "       'attributes', 'categories', 'hours'],\n",
       "      dtype='object')"
      ]
     },
     "execution_count": 112,
     "metadata": {},
     "output_type": "execute_result"
    }
   ],
   "source": [
    "df_bus.columns"
   ]
  },
  {
   "cell_type": "code",
   "execution_count": 64,
   "id": "b3beadc8",
   "metadata": {},
   "outputs": [
    {
     "data": {
      "text/plain": [
       "state\n",
       "PA     34039\n",
       "FL     26330\n",
       "TN     12056\n",
       "IN     11247\n",
       "MO     10913\n",
       "LA      9924\n",
       "AZ      9912\n",
       "NJ      8536\n",
       "NV      7715\n",
       "AB      5573\n",
       "CA      5203\n",
       "ID      4467\n",
       "DE      2265\n",
       "IL      2145\n",
       "TX         4\n",
       "CO         3\n",
       "HI         2\n",
       "MA         2\n",
       "WA         2\n",
       "NC         1\n",
       "SD         1\n",
       "MT         1\n",
       "MI         1\n",
       "UT         1\n",
       "VI         1\n",
       "VT         1\n",
       "XMS        1\n",
       "dtype: int64"
      ]
     },
     "execution_count": 64,
     "metadata": {},
     "output_type": "execute_result"
    }
   ],
   "source": [
    "df_bus.groupby(\"state\").size().sort_values(ascending=False)"
   ]
  },
  {
   "cell_type": "code",
   "execution_count": 113,
   "id": "c88e5768",
   "metadata": {},
   "outputs": [],
   "source": [
    "# dropping unused columns\n",
    "desired_attributes=['business_id','city','state','name','latitude','longitude','stars','review_count','categories']"
   ]
  },
  {
   "cell_type": "code",
   "execution_count": 114,
   "id": "21b52fd1",
   "metadata": {},
   "outputs": [],
   "source": [
    "df_bus_PA = df_bus[df_bus['state']=='PA'][desired_attributes].dropna()"
   ]
  },
  {
   "cell_type": "code",
   "execution_count": 115,
   "id": "42d743d3",
   "metadata": {},
   "outputs": [],
   "source": [
    "# adding text column for hover info\n",
    "df_bus_PA['text'] = df_bus_PA.name + \"<br>\" + df_bus_PA.stars.astype(str) + \" stars<br>\" + df_bus_PA.review_count.astype(str) + \" reviews\""
   ]
  },
  {
   "cell_type": "code",
   "execution_count": 116,
   "id": "d63739ee",
   "metadata": {},
   "outputs": [
    {
     "data": {
      "text/html": [
       "<div>\n",
       "<style scoped>\n",
       "    .dataframe tbody tr th:only-of-type {\n",
       "        vertical-align: middle;\n",
       "    }\n",
       "\n",
       "    .dataframe tbody tr th {\n",
       "        vertical-align: top;\n",
       "    }\n",
       "\n",
       "    .dataframe thead th {\n",
       "        text-align: right;\n",
       "    }\n",
       "</style>\n",
       "<table border=\"1\" class=\"dataframe\">\n",
       "  <thead>\n",
       "    <tr style=\"text-align: right;\">\n",
       "      <th></th>\n",
       "      <th>business_id</th>\n",
       "      <th>city</th>\n",
       "      <th>state</th>\n",
       "      <th>name</th>\n",
       "      <th>latitude</th>\n",
       "      <th>longitude</th>\n",
       "      <th>stars</th>\n",
       "      <th>review_count</th>\n",
       "      <th>categories</th>\n",
       "      <th>text</th>\n",
       "    </tr>\n",
       "  </thead>\n",
       "  <tbody>\n",
       "    <tr>\n",
       "      <th>3</th>\n",
       "      <td>MTSW4McQd7CbVtyjqoe9mw</td>\n",
       "      <td>Philadelphia</td>\n",
       "      <td>PA</td>\n",
       "      <td>St Honore Pastries</td>\n",
       "      <td>39.955505</td>\n",
       "      <td>-75.155564</td>\n",
       "      <td>4.0</td>\n",
       "      <td>80</td>\n",
       "      <td>Restaurants, Food, Bubble Tea, Coffee &amp; Tea, B...</td>\n",
       "      <td>St Honore Pastries&lt;br&gt;4.0 stars&lt;br&gt;80 reviews</td>\n",
       "    </tr>\n",
       "    <tr>\n",
       "      <th>4</th>\n",
       "      <td>mWMc6_wTdE0EUBKIGXDVfA</td>\n",
       "      <td>Green Lane</td>\n",
       "      <td>PA</td>\n",
       "      <td>Perkiomen Valley Brewery</td>\n",
       "      <td>40.338183</td>\n",
       "      <td>-75.471659</td>\n",
       "      <td>4.5</td>\n",
       "      <td>13</td>\n",
       "      <td>Brewpubs, Breweries, Food</td>\n",
       "      <td>Perkiomen Valley Brewery&lt;br&gt;4.5 stars&lt;br&gt;13 re...</td>\n",
       "    </tr>\n",
       "    <tr>\n",
       "      <th>15</th>\n",
       "      <td>MUTTqe8uqyMdBl186RmNeA</td>\n",
       "      <td>Philadelphia</td>\n",
       "      <td>PA</td>\n",
       "      <td>Tuna Bar</td>\n",
       "      <td>39.953949</td>\n",
       "      <td>-75.143226</td>\n",
       "      <td>4.0</td>\n",
       "      <td>245</td>\n",
       "      <td>Sushi Bars, Restaurants, Japanese</td>\n",
       "      <td>Tuna Bar&lt;br&gt;4.0 stars&lt;br&gt;245 reviews</td>\n",
       "    </tr>\n",
       "  </tbody>\n",
       "</table>\n",
       "</div>"
      ],
      "text/plain": [
       "               business_id          city state                      name  \\\n",
       "3   MTSW4McQd7CbVtyjqoe9mw  Philadelphia    PA        St Honore Pastries   \n",
       "4   mWMc6_wTdE0EUBKIGXDVfA    Green Lane    PA  Perkiomen Valley Brewery   \n",
       "15  MUTTqe8uqyMdBl186RmNeA  Philadelphia    PA                  Tuna Bar   \n",
       "\n",
       "     latitude  longitude  stars  review_count  \\\n",
       "3   39.955505 -75.155564    4.0            80   \n",
       "4   40.338183 -75.471659    4.5            13   \n",
       "15  39.953949 -75.143226    4.0           245   \n",
       "\n",
       "                                           categories  \\\n",
       "3   Restaurants, Food, Bubble Tea, Coffee & Tea, B...   \n",
       "4                           Brewpubs, Breweries, Food   \n",
       "15                  Sushi Bars, Restaurants, Japanese   \n",
       "\n",
       "                                                 text  \n",
       "3       St Honore Pastries<br>4.0 stars<br>80 reviews  \n",
       "4   Perkiomen Valley Brewery<br>4.5 stars<br>13 re...  \n",
       "15               Tuna Bar<br>4.0 stars<br>245 reviews  "
      ]
     },
     "execution_count": 116,
     "metadata": {},
     "output_type": "execute_result"
    }
   ],
   "source": [
    "df_bus_PA.head(3)"
   ]
  },
  {
   "cell_type": "code",
   "execution_count": 69,
   "id": "17fba3e0",
   "metadata": {},
   "outputs": [
    {
     "data": {
      "text/html": [
       "<div>\n",
       "<style scoped>\n",
       "    .dataframe tbody tr th:only-of-type {\n",
       "        vertical-align: middle;\n",
       "    }\n",
       "\n",
       "    .dataframe tbody tr th {\n",
       "        vertical-align: top;\n",
       "    }\n",
       "\n",
       "    .dataframe thead th {\n",
       "        text-align: right;\n",
       "    }\n",
       "</style>\n",
       "<table border=\"1\" class=\"dataframe\">\n",
       "  <thead>\n",
       "    <tr style=\"text-align: right;\">\n",
       "      <th></th>\n",
       "      <th>latitude</th>\n",
       "      <th>longitude</th>\n",
       "      <th>stars</th>\n",
       "      <th>review_count</th>\n",
       "    </tr>\n",
       "  </thead>\n",
       "  <tbody>\n",
       "    <tr>\n",
       "      <th>count</th>\n",
       "      <td>34013.000000</td>\n",
       "      <td>34013.000000</td>\n",
       "      <td>34013.000000</td>\n",
       "      <td>34013.000000</td>\n",
       "    </tr>\n",
       "    <tr>\n",
       "      <th>mean</th>\n",
       "      <td>40.047374</td>\n",
       "      <td>-75.229933</td>\n",
       "      <td>3.574442</td>\n",
       "      <td>45.294681</td>\n",
       "    </tr>\n",
       "    <tr>\n",
       "      <th>std</th>\n",
       "      <td>0.120718</td>\n",
       "      <td>0.183097</td>\n",
       "      <td>0.965650</td>\n",
       "      <td>116.558986</td>\n",
       "    </tr>\n",
       "    <tr>\n",
       "      <th>min</th>\n",
       "      <td>39.696345</td>\n",
       "      <td>-75.799287</td>\n",
       "      <td>1.000000</td>\n",
       "      <td>5.000000</td>\n",
       "    </tr>\n",
       "    <tr>\n",
       "      <th>25%</th>\n",
       "      <td>39.951184</td>\n",
       "      <td>-75.321035</td>\n",
       "      <td>3.000000</td>\n",
       "      <td>8.000000</td>\n",
       "    </tr>\n",
       "    <tr>\n",
       "      <th>50%</th>\n",
       "      <td>40.021589</td>\n",
       "      <td>-75.176942</td>\n",
       "      <td>3.500000</td>\n",
       "      <td>15.000000</td>\n",
       "    </tr>\n",
       "    <tr>\n",
       "      <th>75%</th>\n",
       "      <td>40.130542</td>\n",
       "      <td>-75.139307</td>\n",
       "      <td>4.500000</td>\n",
       "      <td>39.000000</td>\n",
       "    </tr>\n",
       "    <tr>\n",
       "      <th>max</th>\n",
       "      <td>40.449748</td>\n",
       "      <td>-74.766048</td>\n",
       "      <td>5.000000</td>\n",
       "      <td>5721.000000</td>\n",
       "    </tr>\n",
       "  </tbody>\n",
       "</table>\n",
       "</div>"
      ],
      "text/plain": [
       "           latitude     longitude         stars  review_count\n",
       "count  34013.000000  34013.000000  34013.000000  34013.000000\n",
       "mean      40.047374    -75.229933      3.574442     45.294681\n",
       "std        0.120718      0.183097      0.965650    116.558986\n",
       "min       39.696345    -75.799287      1.000000      5.000000\n",
       "25%       39.951184    -75.321035      3.000000      8.000000\n",
       "50%       40.021589    -75.176942      3.500000     15.000000\n",
       "75%       40.130542    -75.139307      4.500000     39.000000\n",
       "max       40.449748    -74.766048      5.000000   5721.000000"
      ]
     },
     "execution_count": 69,
     "metadata": {},
     "output_type": "execute_result"
    }
   ],
   "source": [
    "df_bus_PA.describe() #latitude > 39.75"
   ]
  },
  {
   "cell_type": "code",
   "execution_count": 70,
   "id": "21dffb45",
   "metadata": {},
   "outputs": [
    {
     "data": {
      "text/plain": [
       "(34013, 10)"
      ]
     },
     "execution_count": 70,
     "metadata": {},
     "output_type": "execute_result"
    }
   ],
   "source": [
    "df_bus_PA.shape"
   ]
  },
  {
   "cell_type": "code",
   "execution_count": 71,
   "id": "425bbcf8",
   "metadata": {},
   "outputs": [
    {
     "data": {
      "text/plain": [
       "city\n",
       "Philadelphia       14558\n",
       "West Chester         838\n",
       "King of Prussia      559\n",
       "Doylestown           538\n",
       "Bensalem             453\n",
       "Norristown           447\n",
       "Exton                419\n",
       "Lansdale             378\n",
       "Ardmore              376\n",
       "Wayne                375\n",
       "dtype: int64"
      ]
     },
     "execution_count": 71,
     "metadata": {},
     "output_type": "execute_result"
    }
   ],
   "source": [
    "df_bus_PA.groupby('city').size().sort_values(ascending=False).head(10)"
   ]
  },
  {
   "cell_type": "code",
   "execution_count": 35,
   "id": "ae7e0b5e",
   "metadata": {},
   "outputs": [
    {
     "data": {
      "text/plain": [
       "<AxesSubplot:xlabel='stars', ylabel='Count'>"
      ]
     },
     "execution_count": 35,
     "metadata": {},
     "output_type": "execute_result"
    },
    {
     "data": {
      "image/png": "[encoded data removed]",
      "text/plain": [
       "<Figure size 640x480 with 1 Axes>"
      ]
     },
     "metadata": {},
     "output_type": "display_data"
    }
   ],
   "source": [
    "sns.histplot(data=df_bus_PA, x=\"stars\") # left skewed"
   ]
  },
  {
   "cell_type": "code",
   "execution_count": 151,
   "id": "7f70eaaa",
   "metadata": {},
   "outputs": [
    {
     "data": {
      "text/plain": [
       "<AxesSubplot:xlabel='review_count', ylabel='Count'>"
      ]
     },
     "execution_count": 151,
     "metadata": {},
     "output_type": "execute_result"
    },
    {
     "data": {
      "image/png": "[encoded data removed]",
      "text/plain": [
       "<Figure size 640x480 with 1 Axes>"
      ]
     },
     "metadata": {},
     "output_type": "display_data"
    }
   ],
   "source": [
    "sns.histplot(data=df_bus_PA, x=\"review_count\") # power law review count distr"
   ]
  },
  {
   "cell_type": "code",
   "execution_count": 93,
   "id": "26216e7b",
   "metadata": {},
   "outputs": [],
   "source": [
    "# df_bus_PA['log_review_count']= np.log(df_bus_PA['review_count'])"
   ]
  },
  {
   "cell_type": "code",
   "execution_count": 94,
   "id": "c7cb3d61",
   "metadata": {},
   "outputs": [
    {
     "data": {
      "text/plain": [
       "<AxesSubplot:xlabel='log_review_count', ylabel='Count'>"
      ]
     },
     "execution_count": 94,
     "metadata": {},
     "output_type": "execute_result"
    },
    {
     "data": {
      "image/png": "[encoded data removed]",
      "text/plain": [
       "<Figure size 640x480 with 1 Axes>"
      ]
     },
     "metadata": {},
     "output_type": "display_data"
    }
   ],
   "source": [
    "sns.histplot(data=df_bus_PA, x=\"log_review_count\")"
   ]
  },
  {
   "cell_type": "markdown",
   "id": "e3cddd22",
   "metadata": {},
   "source": [
    "##### Business Categories"
   ]
  },
  {
   "cell_type": "code",
   "execution_count": null,
   "id": "0ff368bd",
   "metadata": {},
   "outputs": [],
   "source": [
    "categories_lst = []\n",
    "for i in df_bus_PA[['categories']].itertuples():\n",
    "    categories_lst+=i.categories.split(\", \")"
   ]
  },
  {
   "cell_type": "code",
   "execution_count": null,
   "id": "49499b37",
   "metadata": {},
   "outputs": [],
   "source": [
    "df_PA_cat = pd.DataFrame(categories_lst, columns=['category'])"
   ]
  },
  {
   "cell_type": "code",
   "execution_count": null,
   "id": "6ba1ea38",
   "metadata": {},
   "outputs": [],
   "source": [
    "df_PA_cat.category.nunique()"
   ]
  },
  {
   "cell_type": "code",
   "execution_count": null,
   "id": "568be0c5",
   "metadata": {},
   "outputs": [],
   "source": [
    "df_PA_cat.groupby('category').size().sort_values(ascending=False).head(10)"
   ]
  },
  {
   "cell_type": "code",
   "execution_count": null,
   "id": "bd226ac6",
   "metadata": {},
   "outputs": [],
   "source": []
  },
  {
   "cell_type": "code",
   "execution_count": null,
   "id": "33f0555c",
   "metadata": {},
   "outputs": [],
   "source": []
  },
  {
   "cell_type": "code",
   "execution_count": null,
   "id": "098bd314",
   "metadata": {},
   "outputs": [],
   "source": []
  },
  {
   "cell_type": "code",
   "execution_count": null,
   "id": "38e6df32",
   "metadata": {},
   "outputs": [],
   "source": []
  },
  {
   "cell_type": "markdown",
   "id": "05e8f01d",
   "metadata": {},
   "source": [
    "# Mapbox plots"
   ]
  },
  {
   "cell_type": "code",
   "execution_count": 117,
   "id": "f1918d79",
   "metadata": {},
   "outputs": [],
   "source": [
    "token = \"pk.eyYOURTOKEN\""
   ]
  },
  {
   "cell_type": "markdown",
   "id": "7002984d",
   "metadata": {},
   "source": [
    "#### Data subset for quick plotting"
   ]
  },
  {
   "cell_type": "code",
   "execution_count": 187,
   "id": "11834b7f",
   "metadata": {},
   "outputs": [],
   "source": [
    "df_bus_PA_small =df_bus_PA[1:250]\n",
    "df_small =df[1:250]\n",
    "geo_jsn_small = json.loads(df_small.to_json())"
   ]
  },
  {
   "cell_type": "markdown",
   "id": "049c4119",
   "metadata": {},
   "source": [
    "#### No Token Plotly.Express Choropleth"
   ]
  },
  {
   "cell_type": "code",
   "execution_count": 178,
   "id": "ed372011",
   "metadata": {},
   "outputs": [],
   "source": [
    "fig = px.choropleth_mapbox(df, \n",
    "                           geojson=geo_jsn,\n",
    "                           locations='id', color='ADI_STATERNK',\n",
    "                           color_continuous_scale=\"Viridis\",\n",
    "                           mapbox_style=\"carto-positron\",\n",
    "                           zoom=3, center = {\"lat\": 40, \"lon\": -75},\n",
    "                           opacity=0.5,\n",
    "                           labels={'ADI_STATERNK':'state ADI rank (deciles)'}\n",
    "                          )\n",
    "fig.update_layout(margin={\"r\":0,\"t\":0,\"l\":0,\"b\":0})\n",
    "fig.show()"
   ]
  },
  {
   "cell_type": "markdown",
   "id": "b23740a6",
   "metadata": {},
   "source": [
    "#### No Token Choroplethmapbox from  Plotly.graphic_objects"
   ]
  },
  {
   "cell_type": "code",
   "execution_count": 180,
   "id": "6dadf48a",
   "metadata": {
    "scrolled": true
   },
   "outputs": [],
   "source": [
    "fig = go.Figure(go.Choroplethmapbox(geojson=geo_jsn, locations=df.id, z=df.ADI_STATERNK,\n",
    "                                    colorscale=\"Viridis\",\n",
    "                                    marker_opacity=0.5, marker_line_width=0))\n",
    "fig.update_layout(mapbox_style=\"carto-positron\",\n",
    "                  mapbox_zoom=7.5, mapbox_center = {\"lat\": 40, \"lon\": -75})\n",
    "fig.update_layout(margin={\"r\":0,\"t\":0,\"l\":0,\"b\":0})\n",
    "fig.show()"
   ]
  },
  {
   "cell_type": "markdown",
   "id": "59a6b3cf",
   "metadata": {},
   "source": [
    "#### Mapbox Choropleth with ADI CBGs (mapbox token needed)"
   ]
  },
  {
   "cell_type": "code",
   "execution_count": 183,
   "id": "91afeb81",
   "metadata": {},
   "outputs": [],
   "source": [
    "fig = go.Figure(go.Choroplethmapbox(geojson=geo_jsn, locations=df.id, z=df.ADI_NATRANK,\n",
    "                                    colorscale=\"Viridis\", \n",
    "                                    marker_opacity=0.5, marker_line_width=0))\n",
    "fig.update_layout(mapbox_style=\"light\",mapbox_accesstoken=token,\n",
    "                  mapbox_zoom=7, mapbox_center = {\"lat\": 40, \"lon\": -75})\n",
    "fig.update_layout(margin={\"r\":0,\"t\":0,\"l\":0,\"b\":0})\n",
    "fig.show()"
   ]
  },
  {
   "cell_type": "markdown",
   "id": "50253cd9",
   "metadata": {},
   "source": [
    "#### Scattermapbox (token needed)"
   ]
  },
  {
   "cell_type": "code",
   "execution_count": 185,
   "id": "1b543346",
   "metadata": {},
   "outputs": [],
   "source": [
    "fig = go.Figure(go.Scattermapbox(\n",
    "        lat=df_bus_PA.latitude,\n",
    "        lon=df_bus_PA.longitude,\n",
    "        mode='markers',\n",
    "        text= df_bus_PA.text,\n",
    "        marker=go.scattermapbox.Marker(\n",
    "#             sizemin=3,\n",
    "#             size=df_bus_PA.log_review_count, \n",
    "            size=3,\n",
    "            color=df_bus_PA.stars, \n",
    "            showscale=True,\n",
    "            colorscale='Bluered',\n",
    "            colorbar=dict(title=\"stars\")),))\n",
    "\n",
    "fig.update_layout(\n",
    "    autosize=True,\n",
    "    hovermode='closest',\n",
    "    mapbox=dict(\n",
    "        accesstoken=token,\n",
    "        bearing=0,\n",
    "        center=dict(\n",
    "            lat=39.9986,\n",
    "            lon=-75.127\n",
    "        ),\n",
    "        pitch=0,\n",
    "        zoom=9\n",
    "    ),\n",
    ")\n"
   ]
  },
  {
   "cell_type": "markdown",
   "id": "1ee2ecac",
   "metadata": {},
   "source": [
    "#### Choroplethmapbox (token needed)"
   ]
  },
  {
   "cell_type": "code",
   "execution_count": 190,
   "id": "1c823f4a",
   "metadata": {},
   "outputs": [],
   "source": [
    "# ADI block groups\n",
    "fig=go.Figure(go.Choroplethmapbox(name=\"National ADI Percentile\",\n",
    "                                  geojson=geo_jsn_small, \n",
    "                                  locations=df_small.id,  \n",
    "                                  z=df_small.ADI_NATRANK,\n",
    "                                  colorscale=\"Bluered\", #\"Aggrnyl\",\n",
    "                                  marker=dict(opacity=.6,line_width=.5, ),\n",
    "                                  colorbar=dict(title=\"National ADI Percentile\",\n",
    "                                                outlinewidth=0, \n",
    "                                                showticklabels=True,\n",
    "                                                tickvals=[(i+1)*10 for i in range(10)],\n",
    "                                                orientation='h',\n",
    "                                                tickangle=45,\n",
    "                                                y=-.25,\n",
    "                                                ticktext=[\"1-10<br>least<br>disadvantaged\", \"11-20\", \"21-30\",\"31-40\",\n",
    "                                                          \"41-50\",\"51-60\",\"61-70\",\"71-80\",\"81-90\",\"91-100<br>most<br>disadvantaged\"],),\n",
    "                                  hoverinfo='z', ))\n",
    "\n",
    "fig.update_layout(title='Yelp Reviews for Penslyvannia Businesses',\n",
    "                  mapbox_style=\"light\",\n",
    "                  height=800,\n",
    "                  mapbox_accesstoken=token,\n",
    "                  mapbox_zoom=6, \n",
    "                  mapbox_center = {\"lat\": 40.9, \"lon\": -75},\n",
    "                 hovermode='closest',\n",
    "                 )\n",
    "\n",
    "fig.show()"
   ]
  },
  {
   "cell_type": "markdown",
   "id": "fc172297",
   "metadata": {},
   "source": [
    "#### Final Interactive Plot"
   ]
  },
  {
   "cell_type": "code",
   "execution_count": 176,
   "id": "8460a034",
   "metadata": {},
   "outputs": [],
   "source": [
    "fig = go.Figure()\n",
    "\n",
    "\n",
    "# ADI block groups\n",
    "fig.add_trace(\n",
    "# trace_state=    \n",
    "    go.Choroplethmapbox(name=\"State ADI Decile\",\n",
    "                                  geojson=geo_jsn, \n",
    "                                  locations=df.id,  \n",
    "                                  z=df.ADI_STATERNK,\n",
    "                                  colorscale=\"Bluered\", #['#0000ff','#ff0000'],\n",
    "                                  marker=dict(opacity=.65,line_width=.5, ),\n",
    "                                  colorbar=dict(title=\"State ADI Decile\",\n",
    "                                                outlinewidth=0, \n",
    "                                                showticklabels=True,\n",
    "                                                tickvals=[i+1 for i in range(10)],\n",
    "                                                orientation='h',\n",
    "                                                y=-.55,\n",
    "                                                ticktext=[\"1<br>least<br>disadvantaged\", \"2\", \"3\",\"4\",\n",
    "                                                          \"5\",\"6\",\"7\",\"8\",\"9\",\"10<br>most<br>disadvantaged\"],),\n",
    "                                  hoverinfo='z', )\n",
    ")\n",
    "fig.update_traces(visible=False)\n",
    "\n",
    "fig.add_trace(\n",
    "# trace_nat=  \n",
    "go.Choroplethmapbox(name=\"National ADI Percentile\",\n",
    "                                  geojson=geo_jsn,\n",
    "                                  locations=df.id,  \n",
    "                                  z=df.ADI_NATRANK,\n",
    "                                  colorscale=\"Bluered\",\n",
    "                                  marker=dict(opacity=.65,line_width=.5, ),\n",
    "                                  colorbar=dict(title=\"National ADI Percentile\",\n",
    "                                                outlinewidth=0, \n",
    "                                                showticklabels=True,\n",
    "                                                tickvals=[(i*10+5) for i in range(10)],\n",
    "                                                orientation='h',\n",
    "#                                                 tickangle=45,\n",
    "                                                y=-.55,\n",
    "                                                ticktext=[\"1-10<br>least<br>disadvantaged\", \"11-20\", \"21-30\",\"31-40\",\n",
    "                                                          \"41-50\",\"51-60\",\"61-70\",\"71-80\",\"81-90\",\"91-100<br>most<br>disadvantaged\"],),\n",
    "                                  hoverinfo='z', )\n",
    ")\n",
    "\n",
    "\n",
    "\n",
    "# Scatter plot\n",
    "fig.add_trace(\n",
    "# trace_scatter =    \n",
    "    go.Scattermapbox(name=\"Yelp\",\n",
    "        lat=df_bus_PA.latitude,\n",
    "        lon=df_bus_PA.longitude,\n",
    "        mode='markers',\n",
    "        text= df_bus_PA.text,\n",
    "        marker=go.scattermapbox.Marker(\n",
    "#             size=df_bus_PA.log_review_count, \n",
    "            size=3,\n",
    "            color=df_bus_PA.stars, \n",
    "            showscale=True,\n",
    "            colorscale= [\"orange\",\"green\"],\n",
    "            colorbar=dict(title=\"Stars\",ticks=\"outside\",)),)\n",
    "    )\n",
    "\n",
    "\n",
    "caption = \"\"\"\n",
    "Mean star rating of businesses in the greater Philadelphia area with Area Deprivation Index (ADI) data for Census Block Groups at the state and national levels.<br>\n",
    "This figure combines open source (1) business and review data from Yelp, (2) ADI data from the Neighborhood Atlas, and (3) geographic Census Block Group datafrom the National Historical Geographic \n",
    "<br> Information System (NHGIS).\n",
    "<br><br>\n",
    "[1] https://www.yelp.com/dataset \\t [2] Kind AJH, Buckingham W. Making Neighborhood Disadvantage Metrics Accessible: The Neighborhood Atlas. New England Journal of Medicine, 2018. 378: 2456-2458. \n",
    "<br> DOI: 10.1056/NEJMp1802313. PMCID: PMC6051533. AND University of Wisconsin School of Medicine Public Health. 2015 Area Deprivation Index v2.0. Downloaded from https://www.neighborhoodatlas.medicine.wisc.edu/ \n",
    "<br> May 23, 2019. \\t [3] Steven Manson, Jonathan Schroeder, David Van Riper, Tracy Kugler, and Steven Ruggles. IPUMS National Historical Geographic Information System: Version 17.0 [dataset].\n",
    "<br> Minneapolis, MN: IPUMS. 2022. http://doi.org/10.18128/D050.V17.0 \n",
    "\"\"\"\n",
    "\n",
    "fig.update_layout(title='Yelp Star Rating for Philadelphia Businesses with Measures of Neighborhood Disadvantage',\n",
    "                  mapbox_style=\"light\",\n",
    "                  height=900,\n",
    "                  mapbox_accesstoken=token,\n",
    "                  mapbox_zoom=8, \n",
    "                  mapbox_center = {\"lat\": 40.1, \"lon\": -75.198},\n",
    "                 hovermode='closest',\n",
    "#                   xaxis_title='x',\n",
    "                  xaxis=go.layout.XAxis(\n",
    "        title=go.layout.xaxis.Title(\n",
    "            text=\"Fruits<br><sup>Fruit sales in the month of January</sup>\"\n",
    "            )\n",
    "        ),\n",
    "    annotations=[\n",
    "        dict(text=\"ADI Level\", x=.83, y=1.11,# yref=\"paper\",\n",
    "                             align=\"left\", showarrow=False),\n",
    "        \n",
    "        dict(text=caption,align=\"left\", y=-.3,showarrow=False,),#,y=1\n",
    "    ])\n",
    "\n",
    "\n",
    "fig.update_layout(\n",
    "    updatemenus=[go.layout.Updatemenu(\n",
    "        active=2,\n",
    "        showactive=True,\n",
    "        x = 1,\n",
    "        xanchor = 'right',\n",
    "        y = 1.12,\n",
    "        yanchor = 'top',\n",
    "        buttons=list(\n",
    "            [dict(label = 'Hidden',\n",
    "                  method = 'update',\n",
    "                  args = [{'visible': [ False, False,True]}]),\n",
    "             \n",
    "             dict(label = 'State Deciles',\n",
    "                  method = 'update',\n",
    "                  args = [{'visible': [ True, False,True]},]),\n",
    "             \n",
    "             dict(label = 'National Percentiles',\n",
    "                  method = 'update',\n",
    "                  args = [{'visible': [ False, True,True]}]),\n",
    "            ], ))])\n",
    "\n",
    "fig.show(renderer=\"browser\")"
   ]
  },
  {
   "cell_type": "code",
   "execution_count": 167,
   "id": "d96bf7ed",
   "metadata": {},
   "outputs": [],
   "source": [
    "# fig.write_html(\"interactive_mini_map.html\")"
   ]
  },
  {
   "cell_type": "markdown",
   "id": "72a5d93f",
   "metadata": {},
   "source": [
    "# Examples"
   ]
  },
  {
   "cell_type": "code",
   "execution_count": 48,
   "id": "29aa7ede",
   "metadata": {},
   "outputs": [
    {
     "data": {
      "text/plain": [
       "{'type': 'Feature',\n",
       " 'properties': {'GEO_ID': '0500000US01001',\n",
       "  'STATE': '01',\n",
       "  'COUNTY': '001',\n",
       "  'NAME': 'Autauga',\n",
       "  'LSAD': 'County',\n",
       "  'CENSUSAREA': 594.436},\n",
       " 'geometry': {'type': 'Polygon',\n",
       "  'coordinates': [[[-86.496774, 32.344437],\n",
       "    [-86.717897, 32.402814],\n",
       "    [-86.814912, 32.340803],\n",
       "    [-86.890581, 32.502974],\n",
       "    [-86.917595, 32.664169],\n",
       "    [-86.71339, 32.661732],\n",
       "    [-86.714219, 32.705694],\n",
       "    [-86.413116, 32.707386],\n",
       "    [-86.411172, 32.409937],\n",
       "    [-86.496774, 32.344437]]]},\n",
       " 'id': '01001'}"
      ]
     },
     "execution_count": 48,
     "metadata": {},
     "output_type": "execute_result"
    }
   ],
   "source": [
    "from urllib.request import urlopen\n",
    "import json\n",
    "with urlopen('https://raw.githubusercontent.com/plotly/datasets/master/geojson-counties-fips.json') as response:\n",
    "    counties = json.load(response)\n",
    "\n",
    "counties[\"features\"][0]"
   ]
  },
  {
   "cell_type": "code",
   "execution_count": null,
   "id": "bcb3fbf1",
   "metadata": {},
   "outputs": [],
   "source": []
  },
  {
   "cell_type": "code",
   "execution_count": null,
   "id": "36ff129f",
   "metadata": {},
   "outputs": [],
   "source": []
  }
 ],
 "metadata": {
  "kernelspec": {
   "display_name": "Python 3 (ipykernel)",
   "language": "python",
   "name": "python3"
  },
  "language_info": {
   "codemirror_mode": {
    "name": "ipython",
    "version": 3
   },
   "file_extension": ".py",
   "mimetype": "text/x-python",
   "name": "python",
   "nbconvert_exporter": "python",
   "pygments_lexer": "ipython3",
   "version": "3.9.13"
  }
 },
 "nbformat": 4,
 "nbformat_minor": 5
}
